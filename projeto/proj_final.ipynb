{
 "cells": [
  {
   "cell_type": "markdown",
   "id": "001f5fc4-16b2-4446-b0ce-484311534605",
   "metadata": {},
   "source": [
    "# Projeto"
   ]
  },
  {
   "cell_type": "code",
   "execution_count": 21,
   "id": "da97d3ae-6a57-47b1-a73a-9cd137cf08e6",
   "metadata": {
    "tags": []
   },
   "outputs": [],
   "source": [
    "#Importando bibliotecas\n",
    "import pandas as pd\n",
    "import numpy as np\n",
    "import seaborn as sns\n",
    "import warnings\n",
    "import matplotlib.pyplot as plt\n",
    "import plotly.graph_objects as go\n",
    "import plotly.express as px\n",
    "import pgeocode\n",
    "from sklearn.preprocessing import StandardScaler\n",
    "from sklearn.neighbors import NearestNeighbors\n",
    "warnings.filterwarnings(\"ignore\")"
   ]
  },
  {
   "cell_type": "markdown",
   "id": "b547aade",
   "metadata": {},
   "source": [
    "# Limpeza e Tratamento de Dados"
   ]
  },
  {
   "cell_type": "code",
   "execution_count": 22,
   "id": "2f8e8885-04d5-4531-8399-de72b209efa6",
   "metadata": {
    "tags": []
   },
   "outputs": [],
   "source": [
    "#Carregando os dados\n",
    "transactional = pd.read_csv('transacoes.csv', sep=';')\n",
    "test = pd.read_csv('testes.csv', sep=',')\n",
    "geo = pd.read_csv('info_geo.csv', sep=',')\n",
    "economic = pd.read_csv('economicos.csv', sep=',')\n",
    "demographic = pd.read_csv('demograficos.csv', sep=',')"
   ]
  },
  {
   "cell_type": "code",
   "execution_count": 23,
   "id": "9035168e-4f0c-4945-a992-1e7c4c1b8276",
   "metadata": {
    "tags": []
   },
   "outputs": [],
   "source": [
    "#transactional.info() \n",
    "transactional.dropna(inplace=True) #Removendo dados vazios\n",
    "transactional.drop_duplicates(inplace=True) #Removendo dados duplicados\n",
    "#transactional\n",
    "transactional[\"Date of birth\"] = pd.to_datetime(transactional[\"Date of birth\"], format='mixed', dayfirst=True) #Transformando em data\n",
    "transactional[\"Date of service\"] = pd.to_datetime(transactional[\"Date of service\"], format='mixed', yearfirst=True) #Transformando em data\n",
    "#transactional['Gender'] = transactional['Gender'].astype('string') #Tranformando em string\n",
    "transactional['Testing Cost'] = transactional['Testing Cost'].str.replace(',','.').astype(float) #Tranformando em float\n",
    "#transactional.info()\n",
    "\n",
    "#test.info()\n",
    "test.dropna(inplace=True)\n",
    "test.drop_duplicates(inplace=True)\n",
    "#test\n",
    "\n",
    "#geo.info()\n",
    "geo.dropna(inplace=True)\n",
    "geo.drop(['Unnamed: 0'],axis=1,inplace=True)\n",
    "geo.drop_duplicates(inplace=True)\n",
    "geo['Zipcode'] = geo['Zipcode'].astype(int)\n",
    "#geo\n",
    "\n",
    "#Separando latitude e longitude da coluna location\n",
    "latitude = []\n",
    "longitude = []\n",
    "for i in geo['Location']:\n",
    "    ll = i.split(\",\")\n",
    "    latitude.append(ll[0])\n",
    "    longitude.append(ll[1])\n",
    "geo['LAT']=latitude\n",
    "geo['LON']= longitude\n",
    "geo['LAT'] = geo['LAT'].astype(float)\n",
    "geo['LON'] = geo['LON'].astype(float)\n",
    "\n",
    "#economic.info()\n",
    "economic.dropna(inplace=True)\n",
    "economic.drop(['Unnamed: 0'],axis=1,inplace=True)\n",
    "economic.drop_duplicates(inplace=True)\n",
    "#economic\n",
    "\n",
    "#demographic.info()\n",
    "demographic.dropna(inplace=True)\n",
    "demographic.drop(['Unnamed: 0'],axis=1,inplace=True)\n",
    "demographic.drop_duplicates(inplace=True)\n",
    "#demographic\n",
    "\n",
    "#Percebi que os numeros finais da coluna ID era o zipcode então resolvi separar para mesclar tabelas que tinha zipcode em comum\n",
    "Zipcode = []\n",
    "Zipcode1 = []\n",
    "\n",
    "for i in economic['id']:\n",
    "    zip = i[9:]\n",
    "    Zipcode.append(zip)\n",
    "for i in demographic['Id']:\n",
    "    zip = i[9:]\n",
    "    Zipcode1.append(zip)\n",
    "    \n",
    "    \n",
    "economic.dropna(inplace=True)\n",
    "economic['Zipcode'] = Zipcode\n",
    "#economic\n",
    "demographic['Zipcode'] = Zipcode1\n",
    "demographic.dropna(inplace=True)\n",
    "#demographic\n",
    "\n",
    "demographic['Zipcode'] = demographic['Zipcode'].astype(int)\n",
    "economic['Zipcode'] = economic['Zipcode'].astype(int)\n",
    "\n",
    "#Mesclando tabelas com dados em comum para facilitar\n",
    "filtrado_test =test[['CodItem', 'Desc Item', 'Testing Cost']]\n",
    "filtrado_geo = geo[['Lab Id', 'Location', 'Zipcode']]\n",
    "mesclado_transactional = transactional.merge(filtrado_test, on='CodItem').merge(filtrado_geo, on='Lab Id')\n",
    "#mesclado_transactional\n",
    "mesclado_eco_demo = economic.merge(demographic, on='Zipcode')\n",
    "mesclado_eco_demo.drop(['id','Geographic Area Name','Id','GeographicAreaName'], axis=1, inplace=True)                \n",
    "#mesclado_eco_demo"
   ]
  },
  {
   "cell_type": "markdown",
   "id": "c21a328c",
   "metadata": {},
   "source": [
    "# Análise Exploratória de Dados"
   ]
  },
  {
   "cell_type": "code",
   "execution_count": 24,
   "id": "709fb1c0-f1d6-4967-8967-4daa810f7c84",
   "metadata": {
    "tags": []
   },
   "outputs": [
    {
     "name": "stdout",
     "output_type": "stream",
     "text": [
      "Estatísticas para dados transacionais, testes, e geográficos:\n",
      "\n",
      "Estatísticas Descritivas para Colunas Numéricas:\n",
      "\n",
      "            CodItem  Testing Cost_x  Testing Cost_y       Zipcode\n",
      "count  2.338871e+06    2.338871e+06    2.338871e+06  2.338871e+06\n",
      "mean   7.000322e+07    5.112028e+01    1.560471e+01  5.278856e+04\n",
      "std    1.907615e+03    9.787902e+01    4.187324e+01  3.768114e+04\n",
      "min    7.000004e+07    0.000000e+00    0.000000e+00  1.605000e+03\n",
      "25%    7.000113e+07    1.100000e+01    1.230000e+00  1.914000e+04\n",
      "50%    7.000376e+07    2.400000e+01    2.390000e+00  3.028100e+04\n",
      "75%    7.000446e+07    4.900000e+01    4.970000e+00  9.458800e+04\n",
      "max    7.000900e+07    9.500000e+03    1.762460e+03  9.838300e+04\n",
      "\n",
      "Estatísticas Descritivas para Colunas Categóricas:\n",
      "\n",
      "       Patient Id   Gender      Service Id   Lab Id  \\\n",
      "count     2338871  2338871         2338871  2338871   \n",
      "unique     501025        3          659529      116   \n",
      "top     9999999-1        F  6004395771-8-1     L133   \n",
      "freq         1411  1489922              87   121866   \n",
      "\n",
      "                              Desc Item                Location  \n",
      "count                           2338871                 2338871  \n",
      "unique                             1997                     115  \n",
      "top     HEMOGRAMA, AUTOMATIZADO, SANGUE  38.0070008,-121.868574  \n",
      "freq                             164275                  121866  \n",
      "\n",
      "Estatísticas para dados economicos e demográficos:\n",
      "\n",
      "Estatísticas Descritivas para Colunas Numéricas:\n",
      "\n",
      "       TotalHouseholds_LessThan$10.000  TotalHouseholds_$10.000to$14.999  \\\n",
      "count                     32503.000000                      32503.000000   \n",
      "mean                        234.586469                        163.964342   \n",
      "std                         444.501602                        278.621011   \n",
      "min                           0.000000                          0.000000   \n",
      "25%                          13.000000                         10.000000   \n",
      "50%                          58.000000                         47.000000   \n",
      "75%                         265.000000                        194.000000   \n",
      "max                        7901.000000                       3942.000000   \n",
      "\n",
      "       TotalHouseholds_$15.000to$24.999  TotalHouseholds_$25.000to$34.999  \\\n",
      "count                      32503.000000                      32503.000000   \n",
      "mean                         337.725072                        336.493401   \n",
      "std                          523.835212                        506.264675   \n",
      "min                            0.000000                          0.000000   \n",
      "25%                           27.000000                         28.000000   \n",
      "50%                          103.000000                        105.000000   \n",
      "75%                          428.000000                        430.000000   \n",
      "max                         5410.000000                       4349.000000   \n",
      "\n",
      "       TotalHouseholds_$35.000to$49.999  TotalHouseholds_$50.000to$74.999  \\\n",
      "count                      32503.000000                      32503.000000   \n",
      "mean                         460.354952                        643.278220   \n",
      "std                          677.386626                        931.670877   \n",
      "min                            0.000000                          0.000000   \n",
      "25%                           40.000000                         54.000000   \n",
      "50%                          145.000000                        205.000000   \n",
      "75%                          598.000000                        856.000000   \n",
      "max                         5988.000000                       8466.000000   \n",
      "\n",
      "       TotalHouseholds_$75.000to$99.999  TotalHouseholds_$100.000to$149.999  \\\n",
      "count                      32503.000000                        32503.000000   \n",
      "mean                         474.512353                          563.628434   \n",
      "std                          700.569606                          893.471902   \n",
      "min                            0.000000                            0.000000   \n",
      "25%                           35.000000                           32.000000   \n",
      "50%                          144.000000                          143.000000   \n",
      "75%                          629.000000                          701.000000   \n",
      "max                         6491.000000                         8705.000000   \n",
      "\n",
      "       TotalHouseholds_$150.000to$199.999  TotalHouseholds_$200.000OrMore  \\\n",
      "count                        32503.000000                    32503.000000   \n",
      "mean                           251.790604                      285.369443   \n",
      "std                            472.561167                      690.188658   \n",
      "min                              0.000000                        0.000000   \n",
      "25%                              7.000000                        4.000000   \n",
      "50%                             43.000000                       31.000000   \n",
      "75%                            263.000000                      210.000000   \n",
      "max                           6095.000000                    11968.000000   \n",
      "\n",
      "       ...  Population_20to24Years  Population_25to34Years  \\\n",
      "count  ...            32503.000000            32503.000000   \n",
      "mean   ...              684.248716             1397.667354   \n",
      "std    ...             1244.844154             2340.565400   \n",
      "min    ...                0.000000                0.000000   \n",
      "25%    ...               34.000000               72.000000   \n",
      "50%    ...              158.000000              314.000000   \n",
      "75%    ...              806.000000             1672.000000   \n",
      "max    ...            23027.000000            28192.000000   \n",
      "\n",
      "       Population_35to44Years  Population_45to54Years  Population_55to59Years  \\\n",
      "count            32503.000000            32503.000000            32503.000000   \n",
      "mean              1273.119004             1307.580377              672.801157   \n",
      "std               2005.375213             1935.215046              943.707847   \n",
      "min                  0.000000                0.000000                0.000000   \n",
      "25%                 76.000000               94.000000               56.000000   \n",
      "50%                330.000000              385.000000              221.000000   \n",
      "75%               1639.000000             1781.000000              946.000000   \n",
      "max              23166.000000            18058.000000             7392.000000   \n",
      "\n",
      "       Population_60to64Years  Population_65to74Years  Population_75to84Years  \\\n",
      "count            32503.000000            32503.000000            32503.000000   \n",
      "mean               624.964649              919.965757              467.143341   \n",
      "std                861.293003             1274.943693              684.792037   \n",
      "min                  0.000000                0.000000                0.000000   \n",
      "25%                 56.000000               85.000000               41.000000   \n",
      "50%                212.000000              318.000000              159.000000   \n",
      "75%                888.000000             1303.000000              640.000000   \n",
      "max               7018.000000            26465.000000            16934.000000   \n",
      "\n",
      "       Population_85YearsAndOver  MedianAgeInYears  \n",
      "count               32503.000000      32503.000000  \n",
      "mean                  195.294896         42.701018  \n",
      "std                   314.379197          9.091496  \n",
      "min                     0.000000          1.900000  \n",
      "25%                    11.000000         37.100000  \n",
      "50%                    54.000000         42.000000  \n",
      "75%                   249.000000         47.600000  \n",
      "max                  4633.000000         98.200000  \n",
      "\n",
      "[8 rows x 27 columns]\n"
     ]
    }
   ],
   "source": [
    "# Função para exibir estatísticas descritivas\n",
    "def show_statistics(df):\n",
    "    # Verifica e exibe estatísticas descritivas para colunas numéricas\n",
    "    numeric_columns = df.select_dtypes(include=[float, int]).columns\n",
    "    if len(numeric_columns) > 0:\n",
    "        print(\"\\nEstatísticas Descritivas para Colunas Numéricas:\\n\")\n",
    "        print(df[numeric_columns].describe())\n",
    "    \n",
    "    # Verifica e exibe estatísticas descritivas para colunas categóricas\n",
    "    categorical_columns = df.select_dtypes(include=[object]).columns\n",
    "    if len(categorical_columns) > 0:\n",
    "        print(\"\\nEstatísticas Descritivas para Colunas Categóricas:\\n\")\n",
    "        print(df[categorical_columns].describe())\n",
    "\n",
    "print(\"Estatísticas para dados transacionais, testes, e geográficos:\")\n",
    "show_statistics(mesclado_transactional)\n",
    "\n",
    "print(\"\\nEstatísticas para dados economicos e demográficos:\")\n",
    "show_statistics(mesclado_eco_demo)"
   ]
  },
  {
   "cell_type": "markdown",
   "id": "322eb330",
   "metadata": {},
   "source": [
    "#### Observando as colunas percebi que poderia criar outras features com os dados de 'Date of birth' e 'Date of service' podemos saber a idade e com 'Testing Cost_x': quanto o teste custa para o cliente e 'Testing Cost_y': quanto o teste custa para o laboratório, podemos saber o lucro."
   ]
  },
  {
   "cell_type": "code",
   "execution_count": 25,
   "id": "861d80ac-21c9-48ee-8548-b6e16987c58c",
   "metadata": {
    "tags": []
   },
   "outputs": [],
   "source": [
    "#Criando features de lucro e de idade\n",
    "mesclado_transactional['idade'] = np.ceil((mesclado_transactional['Date of service'] - mesclado_transactional['Date of birth']) / pd.Timedelta(days=365.25))\n",
    "mesclado_transactional['lucro'] = mesclado_transactional['Testing Cost_x'] - mesclado_transactional['Testing Cost_y']\n",
    "#Criando dataframe com dados dos pacientes\n",
    "pacientes=mesclado_transactional.groupby(['Patient Id', 'Gender', 'idade'])['Testing Cost_x'].sum().reset_index()"
   ]
  },
  {
   "cell_type": "code",
   "execution_count": 26,
   "id": "0ce0ba0c-5ab2-4d49-a8fc-2a9390232c18",
   "metadata": {
    "tags": []
   },
   "outputs": [],
   "source": [
    "#Retirando outliers pois foram percebidas inconsistências nas idades\n",
    "from scipy import stats\n",
    "#Calculando z-score \n",
    "z = np.abs(stats.zscore(pacientes['idade']))\n",
    "\n",
    "#Identificando outliers\n",
    "threshold = 3\n",
    "outliers = pacientes['idade'][z > threshold]\n",
    "\n",
    "pacientes = pacientes.drop(outliers.index)"
   ]
  },
  {
   "cell_type": "markdown",
   "id": "6cb3d451",
   "metadata": {},
   "source": [
    "#### De acordo com a base de dados formulei as seguintes perguntas:\n",
    "\n",
    "    - Qual o publico alvo e quanto eles gastam?\n",
    "    - Quais lugares lucram mais e suas caracteristicas?\n",
    "    \n",
    "#### e a seguinte estratégia:\n",
    "\n",
    "    - Procurar por locais que atendem o publico alvo e que tenham caracteristicas semelhantes aos que mais lucraram."
   ]
  },
  {
   "cell_type": "code",
   "execution_count": 27,
   "id": "e3bcd0b8",
   "metadata": {},
   "outputs": [],
   "source": [
    "gastos_por_genero= pacientes.groupby(['Gender'])['Testing Cost_x'].sum().reset_index()\n",
    "gastos_idade_e_genero=pacientes.groupby(['Gender','idade'])['Testing Cost_x'].sum().reset_index()"
   ]
  },
  {
   "cell_type": "code",
   "execution_count": 28,
   "id": "f8e061f8",
   "metadata": {},
   "outputs": [],
   "source": [
    "#Lucro por laboratório existente\n",
    "lucro=mesclado_transactional.groupby(['Zipcode'])['lucro'].sum().reset_index()\n",
    "onde_tem_lab = mesclado_eco_demo.merge(lucro, on='Zipcode')"
   ]
  },
  {
   "cell_type": "code",
   "execution_count": 29,
   "id": "f235235b",
   "metadata": {},
   "outputs": [
    {
     "data": {
      "image/png": "[encoded data removed]",
      "text/plain": [
       "<Figure size 1800x1200 with 6 Axes>"
      ]
     },
     "metadata": {},
     "output_type": "display_data"
    }
   ],
   "source": [
    "# Criando o subplot\n",
    "fig, axes = plt.subplots(2, 3, figsize=(18, 12))\n",
    "\n",
    "# Primeiro gráfico\n",
    "sns.histplot(data=pacientes, x='idade', hue='Gender', multiple=\"stack\", ax=axes[0, 0])\n",
    "axes[0, 0].set_title('Contagem de Testes por Idade e Gênero')\n",
    "\n",
    "# Segundo gráfico\n",
    "sns.barplot(data=gastos_por_genero, x='Gender', y='Testing Cost_x', ax=axes[0, 1])\n",
    "axes[0, 1].set_title('Gastos com Testes por Gênero')\n",
    "\n",
    "# Terceiro gráfico\n",
    "sns.scatterplot(data=gastos_idade_e_genero, x='idade', y='Testing Cost_x', hue='Gender', ax=axes[0, 2])\n",
    "axes[0, 2].set_title('Gastos com Testes por Idade e Gênero')\n",
    "\n",
    "# Quarto gráfico\n",
    "sns.scatterplot(x=\"TotalPopulation\", y=\"lucro\", data=onde_tem_lab, ax=axes[1, 0])\n",
    "axes[1, 0].set_title('Lucro por População Total')\n",
    "\n",
    "# Quinto gráfico\n",
    "sns.scatterplot(data=onde_tem_lab, x='MedianAgeInYears', y='lucro', ax=axes[1, 1])\n",
    "axes[1, 1].set_title('Lucro por Idade Mediana')\n",
    "\n",
    "# Sexto gráfico\n",
    "sns.scatterplot(data=onde_tem_lab, x='SexRatio(males per 100 females)', y='lucro', ax=axes[1, 2])\n",
    "axes[1, 2].set_title('Lucro por Razão de Sexo')\n",
    "\n",
    "# Ajustando o layout\n",
    "plt.tight_layout()\n",
    "\n",
    "# Mostrando o plot\n",
    "plt.show()"
   ]
  },
  {
   "cell_type": "markdown",
   "id": "830e7624",
   "metadata": {},
   "source": [
    "#### Analisando os gráficos percebe-se que mulheres gastam mais com exames que homens, entre 20 e 60 anos a diferença aumenta muito, lugares mais populosos lucram mais, lucro em lugares onde a idade mediana entre 28 e 40 anos é maior e lugares onde tem mais mulheres que homens lucram mais.\n",
    "\n",
    "#### Hipóteses: lugares que tem mais mulheres e com idade mediana entre 28 e 40 anos lucram mais?"
   ]
  },
  {
   "cell_type": "code",
   "execution_count": 30,
   "id": "3acc2f7a",
   "metadata": {},
   "outputs": [],
   "source": [
    "#Separando cidades onde tem laboratórios que mulheres são maioria e idade mediana entre 28 e 40\n",
    "maioria_mulher=onde_tem_lab.loc[ \n",
    "    (onde_tem_lab['SexRatio(males per 100 females)'] < 100) & \n",
    "    (onde_tem_lab['MedianAgeInYears'] > 28) &\n",
    "    (onde_tem_lab['MedianAgeInYears'] < 40)]\n",
    "df_aux= onde_tem_lab.drop(maioria_mulher.index)"
   ]
  },
  {
   "cell_type": "markdown",
   "id": "971dd731",
   "metadata": {},
   "source": [
    "#### Comparação entre a média de lucro em lugares que a maioria são mulheres e lugares que elas não são maioria."
   ]
  },
  {
   "cell_type": "code",
   "execution_count": 31,
   "id": "c442b2b5",
   "metadata": {},
   "outputs": [
    {
     "data": {
      "text/plain": [
       "986872.6187804877"
      ]
     },
     "execution_count": 31,
     "metadata": {},
     "output_type": "execute_result"
    }
   ],
   "source": [
    "maioria_mulher['lucro'].mean()"
   ]
  },
  {
   "cell_type": "code",
   "execution_count": 32,
   "id": "4c8fdd16",
   "metadata": {},
   "outputs": [
    {
     "data": {
      "text/plain": [
       "671269.177704918"
      ]
     },
     "execution_count": 32,
     "metadata": {},
     "output_type": "execute_result"
    }
   ],
   "source": [
    "df_aux['lucro'].mean()"
   ]
  },
  {
   "cell_type": "markdown",
   "id": "17d02f89",
   "metadata": {},
   "source": [
    "#### Resultado: lugares onde tem laboratórios que mulheres são maioria e idade mediana entre 28 e 40, em média, lucram mais."
   ]
  },
  {
   "cell_type": "markdown",
   "id": "1b60d252",
   "metadata": {},
   "source": [
    "# Machine Learning"
   ]
  },
  {
   "cell_type": "markdown",
   "id": "afc6f434",
   "metadata": {},
   "source": [
    "#### Seguindo essa premissa vamos buscar lugares que não tem laboratórios, mulheres são maioria e idade mediana entre 28 e 40, pois em média esses lugares lucram mais."
   ]
  },
  {
   "cell_type": "code",
   "execution_count": 33,
   "id": "6ae59e9f",
   "metadata": {},
   "outputs": [],
   "source": [
    "#Ordenando lugares com laboratório por lucro e separando os 4 primeiros para treinar o algoritmo\n",
    "com_lab = maioria_mulher.sort_values(by='lucro', ascending=False).head(4)\n",
    "#Descartando algumas colunas irrelevantes\n",
    "com_lab = com_lab.drop(['lucro', 'Zipcode'], axis=1)"
   ]
  },
  {
   "cell_type": "code",
   "execution_count": 34,
   "id": "fa9aa6de",
   "metadata": {},
   "outputs": [],
   "source": [
    "#Identificar os Zipcodes dos lugares com laboratórios\n",
    "zipcodes_com_labs = onde_tem_lab['Zipcode'].unique()\n",
    "\n",
    "#Filtrar o dataframe para pegar o dados dos lugares que não tem laboratórios\n",
    "n_tem_lab = mesclado_eco_demo[~mesclado_eco_demo['Zipcode'].isin(zipcodes_com_labs)]"
   ]
  },
  {
   "cell_type": "code",
   "execution_count": 35,
   "id": "f60743c0",
   "metadata": {},
   "outputs": [],
   "source": [
    "#Normalizando os dados\n",
    "scaler = StandardScaler()\n",
    "df_com_lab_scaled = scaler.fit_transform(com_lab)\n",
    "df_sem_lab_scaled = scaler.transform(n_tem_lab.drop('Zipcode', axis=1))"
   ]
  },
  {
   "cell_type": "code",
   "execution_count": 36,
   "id": "159cc751",
   "metadata": {},
   "outputs": [
    {
     "data": {
      "text/html": [
       "<style>#sk-container-id-2 {color: black;background-color: white;}#sk-container-id-2 pre{padding: 0;}#sk-container-id-2 div.sk-toggleable {background-color: white;}#sk-container-id-2 label.sk-toggleable__label {cursor: pointer;display: block;width: 100%;margin-bottom: 0;padding: 0.3em;box-sizing: border-box;text-align: center;}#sk-container-id-2 label.sk-toggleable__label-arrow:before {content: \"▸\";float: left;margin-right: 0.25em;color: #696969;}#sk-container-id-2 label.sk-toggleable__label-arrow:hover:before {color: black;}#sk-container-id-2 div.sk-estimator:hover label.sk-toggleable__label-arrow:before {color: black;}#sk-container-id-2 div.sk-toggleable__content {max-height: 0;max-width: 0;overflow: hidden;text-align: left;background-color: #f0f8ff;}#sk-container-id-2 div.sk-toggleable__content pre {margin: 0.2em;color: black;border-radius: 0.25em;background-color: #f0f8ff;}#sk-container-id-2 input.sk-toggleable__control:checked~div.sk-toggleable__content {max-height: 200px;max-width: 100%;overflow: auto;}#sk-container-id-2 input.sk-toggleable__control:checked~label.sk-toggleable__label-arrow:before {content: \"▾\";}#sk-container-id-2 div.sk-estimator input.sk-toggleable__control:checked~label.sk-toggleable__label {background-color: #d4ebff;}#sk-container-id-2 div.sk-label input.sk-toggleable__control:checked~label.sk-toggleable__label {background-color: #d4ebff;}#sk-container-id-2 input.sk-hidden--visually {border: 0;clip: rect(1px 1px 1px 1px);clip: rect(1px, 1px, 1px, 1px);height: 1px;margin: -1px;overflow: hidden;padding: 0;position: absolute;width: 1px;}#sk-container-id-2 div.sk-estimator {font-family: monospace;background-color: #f0f8ff;border: 1px dotted black;border-radius: 0.25em;box-sizing: border-box;margin-bottom: 0.5em;}#sk-container-id-2 div.sk-estimator:hover {background-color: #d4ebff;}#sk-container-id-2 div.sk-parallel-item::after {content: \"\";width: 100%;border-bottom: 1px solid gray;flex-grow: 1;}#sk-container-id-2 div.sk-label:hover label.sk-toggleable__label {background-color: #d4ebff;}#sk-container-id-2 div.sk-serial::before {content: \"\";position: absolute;border-left: 1px solid gray;box-sizing: border-box;top: 0;bottom: 0;left: 50%;z-index: 0;}#sk-container-id-2 div.sk-serial {display: flex;flex-direction: column;align-items: center;background-color: white;padding-right: 0.2em;padding-left: 0.2em;position: relative;}#sk-container-id-2 div.sk-item {position: relative;z-index: 1;}#sk-container-id-2 div.sk-parallel {display: flex;align-items: stretch;justify-content: center;background-color: white;position: relative;}#sk-container-id-2 div.sk-item::before, #sk-container-id-2 div.sk-parallel-item::before {content: \"\";position: absolute;border-left: 1px solid gray;box-sizing: border-box;top: 0;bottom: 0;left: 50%;z-index: -1;}#sk-container-id-2 div.sk-parallel-item {display: flex;flex-direction: column;z-index: 1;position: relative;background-color: white;}#sk-container-id-2 div.sk-parallel-item:first-child::after {align-self: flex-end;width: 50%;}#sk-container-id-2 div.sk-parallel-item:last-child::after {align-self: flex-start;width: 50%;}#sk-container-id-2 div.sk-parallel-item:only-child::after {width: 0;}#sk-container-id-2 div.sk-dashed-wrapped {border: 1px dashed gray;margin: 0 0.4em 0.5em 0.4em;box-sizing: border-box;padding-bottom: 0.4em;background-color: white;}#sk-container-id-2 div.sk-label label {font-family: monospace;font-weight: bold;display: inline-block;line-height: 1.2em;}#sk-container-id-2 div.sk-label-container {text-align: center;}#sk-container-id-2 div.sk-container {/* jupyter's `normalize.less` sets `[hidden] { display: none; }` but bootstrap.min.css set `[hidden] { display: none !important; }` so we also need the `!important` here to be able to override the default hidden behavior on the sphinx rendered scikit-learn.org. See: https://github.com/scikit-learn/scikit-learn/issues/21755 */display: inline-block !important;position: relative;}#sk-container-id-2 div.sk-text-repr-fallback {display: none;}</style><div id=\"sk-container-id-2\" class=\"sk-top-container\"><div class=\"sk-text-repr-fallback\"><pre>NearestNeighbors(metric=&#x27;manhattan&#x27;, n_neighbors=4)</pre><b>In a Jupyter environment, please rerun this cell to show the HTML representation or trust the notebook. <br />On GitHub, the HTML representation is unable to render, please try loading this page with nbviewer.org.</b></div><div class=\"sk-container\" hidden><div class=\"sk-item\"><div class=\"sk-estimator sk-toggleable\"><input class=\"sk-toggleable__control sk-hidden--visually\" id=\"sk-estimator-id-2\" type=\"checkbox\" checked><label for=\"sk-estimator-id-2\" class=\"sk-toggleable__label sk-toggleable__label-arrow\">NearestNeighbors</label><div class=\"sk-toggleable__content\"><pre>NearestNeighbors(metric=&#x27;manhattan&#x27;, n_neighbors=4)</pre></div></div></div></div></div>"
      ],
      "text/plain": [
       "NearestNeighbors(metric='manhattan', n_neighbors=4)"
      ]
     },
     "execution_count": 36,
     "metadata": {},
     "output_type": "execute_result"
    }
   ],
   "source": [
    "#Aplicando o algoritmo KNN\n",
    "knn = NearestNeighbors(n_neighbors=4, metric='manhattan')  # Ajustando n_neighbors e métrica conforme necessário\n",
    "knn.fit(df_com_lab_scaled)"
   ]
  },
  {
   "cell_type": "code",
   "execution_count": 37,
   "id": "0bdea10d",
   "metadata": {},
   "outputs": [],
   "source": [
    "#Encontrando os vizinhos mais próximos para cada lugar sem laboratório\n",
    "distances, indices = knn.kneighbors(df_sem_lab_scaled)"
   ]
  },
  {
   "cell_type": "code",
   "execution_count": 38,
   "id": "9271cb49",
   "metadata": {},
   "outputs": [],
   "source": [
    "#Adicionando a média das distâncias dos vizinhos mais próximos ao dataframe sem laboratórios\n",
    "n_tem_lab['MeanDistanceToLab'] = distances.mean(axis=1)\n",
    "\n",
    "#Ordenando os lugares sem laboratórios pela média das distâncias\n",
    "n_tem_lab_ordenado = n_tem_lab.sort_values(by='MeanDistanceToLab')"
   ]
  },
  {
   "cell_type": "markdown",
   "id": "807ebb79",
   "metadata": {},
   "source": [
    "#### Buscando zipcode para plotar gráfico de lugares para abrir laboratórios."
   ]
  },
  {
   "cell_type": "code",
   "execution_count": 39,
   "id": "1ec65231",
   "metadata": {
    "scrolled": false
   },
   "outputs": [
    {
     "data": {
      "application/vnd.plotly.v1+json": {
       "config": {
        "plotlyServerURL": "https://plot.ly"
       },
       "data": [
        {
         "lat": [
          32.7423,
          33.3992,
          30.2687,
          42.3542,
          32.825,
          26.1487,
          32.7319,
          34.4133,
          41.9025,
          33.9769,
          40.0091,
          40.8295,
          34.2262,
          40.67,
          35.244,
          36.022,
          33.7224,
          41.7582,
          36.173
         ],
         "locationmode": "USA-states",
         "lon": [
          -117.0947,
          -111.7896,
          -81.7473,
          -87.8651,
          -96.6784,
          -80.2075,
          -96.9057,
          -118.0917,
          -87.7393,
          -118.2161,
          -76.3671,
          -73.8716,
          -118.447,
          -73.9367,
          -80.7387,
          -79.7821,
          -84.5205,
          -88.2971,
          -115.0669
         ],
         "marker": {
          "autocolorscale": false,
          "color": [
           30.231552173602267,
           30.34950120828933,
           31.14376476743172,
           31.863898137557896,
           31.95399509004084,
           33.09898390381565,
           33.26383697666825,
           33.4861038097101,
           33.96523968459725,
           34.11506800646798,
           34.34073122495651,
           34.552315713626484,
           34.68261048559062,
           34.82448137267077,
           35.08754521375708,
           35.25254989833461,
           35.41573572957651,
           35.57244233374547,
           35.636696348130755
          ],
          "colorbar": {
           "title": {
            "text": "Média de proximidade<br>(Quando menor, melhor)"
           }
          },
          "line": {
           "color": "rgba(102, 102, 102)",
           "width": 1
          },
          "opacity": 0.8,
          "reversescale": true,
          "size": 10,
          "symbol": "square"
         },
         "mode": "markers",
         "text": [
          "San Diego",
          "Mesa",
          "Jacksonville",
          "Waukegan",
          "Dallas",
          "Fort Lauderdale",
          "Dallas",
          "Palmdale",
          "Chicago",
          "Huntington Park",
          "Lancaster",
          "Bronx",
          "Panorama City",
          "Brooklyn",
          "Charlotte",
          "Greensboro",
          "Atlanta",
          "Aurora",
          "Las Vegas"
         ],
         "type": "scattergeo"
        }
       ],
       "layout": {
        "geo": {
         "countrycolor": "rgb(217, 217, 217)",
         "countrywidth": 0.5,
         "landcolor": "rgb(250, 250, 250)",
         "projection": {
          "type": "albers usa"
         },
         "scope": "usa",
         "showland": true,
         "subunitcolor": "rgb(217, 217, 217)",
         "subunitwidth": 0.5
        },
        "template": {
         "data": {
          "bar": [
           {
            "error_x": {
             "color": "#2a3f5f"
            },
            "error_y": {
             "color": "#2a3f5f"
            },
            "marker": {
             "line": {
              "color": "#E5ECF6",
              "width": 0.5
             },
             "pattern": {
              "fillmode": "overlay",
              "size": 10,
              "solidity": 0.2
             }
            },
            "type": "bar"
           }
          ],
          "barpolar": [
           {
            "marker": {
             "line": {
              "color": "#E5ECF6",
              "width": 0.5
             },
             "pattern": {
              "fillmode": "overlay",
              "size": 10,
              "solidity": 0.2
             }
            },
            "type": "barpolar"
           }
          ],
          "carpet": [
           {
            "aaxis": {
             "endlinecolor": "#2a3f5f",
             "gridcolor": "white",
             "linecolor": "white",
             "minorgridcolor": "white",
             "startlinecolor": "#2a3f5f"
            },
            "baxis": {
             "endlinecolor": "#2a3f5f",
             "gridcolor": "white",
             "linecolor": "white",
             "minorgridcolor": "white",
             "startlinecolor": "#2a3f5f"
            },
            "type": "carpet"
           }
          ],
          "choropleth": [
           {
            "colorbar": {
             "outlinewidth": 0,
             "ticks": ""
            },
            "type": "choropleth"
           }
          ],
          "contour": [
           {
            "colorbar": {
             "outlinewidth": 0,
             "ticks": ""
            },
            "colorscale": [
             [
              0,
              "#0d0887"
             ],
             [
              0.1111111111111111,
              "#46039f"
             ],
             [
              0.2222222222222222,
              "#7201a8"
             ],
             [
              0.3333333333333333,
              "#9c179e"
             ],
             [
              0.4444444444444444,
              "#bd3786"
             ],
             [
              0.5555555555555556,
              "#d8576b"
             ],
             [
              0.6666666666666666,
              "#ed7953"
             ],
             [
              0.7777777777777778,
              "#fb9f3a"
             ],
             [
              0.8888888888888888,
              "#fdca26"
             ],
             [
              1,
              "#f0f921"
             ]
            ],
            "type": "contour"
           }
          ],
          "contourcarpet": [
           {
            "colorbar": {
             "outlinewidth": 0,
             "ticks": ""
            },
            "type": "contourcarpet"
           }
          ],
          "heatmap": [
           {
            "colorbar": {
             "outlinewidth": 0,
             "ticks": ""
            },
            "colorscale": [
             [
              0,
              "#0d0887"
             ],
             [
              0.1111111111111111,
              "#46039f"
             ],
             [
              0.2222222222222222,
              "#7201a8"
             ],
             [
              0.3333333333333333,
              "#9c179e"
             ],
             [
              0.4444444444444444,
              "#bd3786"
             ],
             [
              0.5555555555555556,
              "#d8576b"
             ],
             [
              0.6666666666666666,
              "#ed7953"
             ],
             [
              0.7777777777777778,
              "#fb9f3a"
             ],
             [
              0.8888888888888888,
              "#fdca26"
             ],
             [
              1,
              "#f0f921"
             ]
            ],
            "type": "heatmap"
           }
          ],
          "heatmapgl": [
           {
            "colorbar": {
             "outlinewidth": 0,
             "ticks": ""
            },
            "colorscale": [
             [
              0,
              "#0d0887"
             ],
             [
              0.1111111111111111,
              "#46039f"
             ],
             [
              0.2222222222222222,
              "#7201a8"
             ],
             [
              0.3333333333333333,
              "#9c179e"
             ],
             [
              0.4444444444444444,
              "#bd3786"
             ],
             [
              0.5555555555555556,
              "#d8576b"
             ],
             [
              0.6666666666666666,
              "#ed7953"
             ],
             [
              0.7777777777777778,
              "#fb9f3a"
             ],
             [
              0.8888888888888888,
              "#fdca26"
             ],
             [
              1,
              "#f0f921"
             ]
            ],
            "type": "heatmapgl"
           }
          ],
          "histogram": [
           {
            "marker": {
             "pattern": {
              "fillmode": "overlay",
              "size": 10,
              "solidity": 0.2
             }
            },
            "type": "histogram"
           }
          ],
          "histogram2d": [
           {
            "colorbar": {
             "outlinewidth": 0,
             "ticks": ""
            },
            "colorscale": [
             [
              0,
              "#0d0887"
             ],
             [
              0.1111111111111111,
              "#46039f"
             ],
             [
              0.2222222222222222,
              "#7201a8"
             ],
             [
              0.3333333333333333,
              "#9c179e"
             ],
             [
              0.4444444444444444,
              "#bd3786"
             ],
             [
              0.5555555555555556,
              "#d8576b"
             ],
             [
              0.6666666666666666,
              "#ed7953"
             ],
             [
              0.7777777777777778,
              "#fb9f3a"
             ],
             [
              0.8888888888888888,
              "#fdca26"
             ],
             [
              1,
              "#f0f921"
             ]
            ],
            "type": "histogram2d"
           }
          ],
          "histogram2dcontour": [
           {
            "colorbar": {
             "outlinewidth": 0,
             "ticks": ""
            },
            "colorscale": [
             [
              0,
              "#0d0887"
             ],
             [
              0.1111111111111111,
              "#46039f"
             ],
             [
              0.2222222222222222,
              "#7201a8"
             ],
             [
              0.3333333333333333,
              "#9c179e"
             ],
             [
              0.4444444444444444,
              "#bd3786"
             ],
             [
              0.5555555555555556,
              "#d8576b"
             ],
             [
              0.6666666666666666,
              "#ed7953"
             ],
             [
              0.7777777777777778,
              "#fb9f3a"
             ],
             [
              0.8888888888888888,
              "#fdca26"
             ],
             [
              1,
              "#f0f921"
             ]
            ],
            "type": "histogram2dcontour"
           }
          ],
          "mesh3d": [
           {
            "colorbar": {
             "outlinewidth": 0,
             "ticks": ""
            },
            "type": "mesh3d"
           }
          ],
          "parcoords": [
           {
            "line": {
             "colorbar": {
              "outlinewidth": 0,
              "ticks": ""
             }
            },
            "type": "parcoords"
           }
          ],
          "pie": [
           {
            "automargin": true,
            "type": "pie"
           }
          ],
          "scatter": [
           {
            "fillpattern": {
             "fillmode": "overlay",
             "size": 10,
             "solidity": 0.2
            },
            "type": "scatter"
           }
          ],
          "scatter3d": [
           {
            "line": {
             "colorbar": {
              "outlinewidth": 0,
              "ticks": ""
             }
            },
            "marker": {
             "colorbar": {
              "outlinewidth": 0,
              "ticks": ""
             }
            },
            "type": "scatter3d"
           }
          ],
          "scattercarpet": [
           {
            "marker": {
             "colorbar": {
              "outlinewidth": 0,
              "ticks": ""
             }
            },
            "type": "scattercarpet"
           }
          ],
          "scattergeo": [
           {
            "marker": {
             "colorbar": {
              "outlinewidth": 0,
              "ticks": ""
             }
            },
            "type": "scattergeo"
           }
          ],
          "scattergl": [
           {
            "marker": {
             "colorbar": {
              "outlinewidth": 0,
              "ticks": ""
             }
            },
            "type": "scattergl"
           }
          ],
          "scattermapbox": [
           {
            "marker": {
             "colorbar": {
              "outlinewidth": 0,
              "ticks": ""
             }
            },
            "type": "scattermapbox"
           }
          ],
          "scatterpolar": [
           {
            "marker": {
             "colorbar": {
              "outlinewidth": 0,
              "ticks": ""
             }
            },
            "type": "scatterpolar"
           }
          ],
          "scatterpolargl": [
           {
            "marker": {
             "colorbar": {
              "outlinewidth": 0,
              "ticks": ""
             }
            },
            "type": "scatterpolargl"
           }
          ],
          "scatterternary": [
           {
            "marker": {
             "colorbar": {
              "outlinewidth": 0,
              "ticks": ""
             }
            },
            "type": "scatterternary"
           }
          ],
          "surface": [
           {
            "colorbar": {
             "outlinewidth": 0,
             "ticks": ""
            },
            "colorscale": [
             [
              0,
              "#0d0887"
             ],
             [
              0.1111111111111111,
              "#46039f"
             ],
             [
              0.2222222222222222,
              "#7201a8"
             ],
             [
              0.3333333333333333,
              "#9c179e"
             ],
             [
              0.4444444444444444,
              "#bd3786"
             ],
             [
              0.5555555555555556,
              "#d8576b"
             ],
             [
              0.6666666666666666,
              "#ed7953"
             ],
             [
              0.7777777777777778,
              "#fb9f3a"
             ],
             [
              0.8888888888888888,
              "#fdca26"
             ],
             [
              1,
              "#f0f921"
             ]
            ],
            "type": "surface"
           }
          ],
          "table": [
           {
            "cells": {
             "fill": {
              "color": "#EBF0F8"
             },
             "line": {
              "color": "white"
             }
            },
            "header": {
             "fill": {
              "color": "#C8D4E3"
             },
             "line": {
              "color": "white"
             }
            },
            "type": "table"
           }
          ]
         },
         "layout": {
          "annotationdefaults": {
           "arrowcolor": "#2a3f5f",
           "arrowhead": 0,
           "arrowwidth": 1
          },
          "autotypenumbers": "strict",
          "coloraxis": {
           "colorbar": {
            "outlinewidth": 0,
            "ticks": ""
           }
          },
          "colorscale": {
           "diverging": [
            [
             0,
             "#8e0152"
            ],
            [
             0.1,
             "#c51b7d"
            ],
            [
             0.2,
             "#de77ae"
            ],
            [
             0.3,
             "#f1b6da"
            ],
            [
             0.4,
             "#fde0ef"
            ],
            [
             0.5,
             "#f7f7f7"
            ],
            [
             0.6,
             "#e6f5d0"
            ],
            [
             0.7,
             "#b8e186"
            ],
            [
             0.8,
             "#7fbc41"
            ],
            [
             0.9,
             "#4d9221"
            ],
            [
             1,
             "#276419"
            ]
           ],
           "sequential": [
            [
             0,
             "#0d0887"
            ],
            [
             0.1111111111111111,
             "#46039f"
            ],
            [
             0.2222222222222222,
             "#7201a8"
            ],
            [
             0.3333333333333333,
             "#9c179e"
            ],
            [
             0.4444444444444444,
             "#bd3786"
            ],
            [
             0.5555555555555556,
             "#d8576b"
            ],
            [
             0.6666666666666666,
             "#ed7953"
            ],
            [
             0.7777777777777778,
             "#fb9f3a"
            ],
            [
             0.8888888888888888,
             "#fdca26"
            ],
            [
             1,
             "#f0f921"
            ]
           ],
           "sequentialminus": [
            [
             0,
             "#0d0887"
            ],
            [
             0.1111111111111111,
             "#46039f"
            ],
            [
             0.2222222222222222,
             "#7201a8"
            ],
            [
             0.3333333333333333,
             "#9c179e"
            ],
            [
             0.4444444444444444,
             "#bd3786"
            ],
            [
             0.5555555555555556,
             "#d8576b"
            ],
            [
             0.6666666666666666,
             "#ed7953"
            ],
            [
             0.7777777777777778,
             "#fb9f3a"
            ],
            [
             0.8888888888888888,
             "#fdca26"
            ],
            [
             1,
             "#f0f921"
            ]
           ]
          },
          "colorway": [
           "#636efa",
           "#EF553B",
           "#00cc96",
           "#ab63fa",
           "#FFA15A",
           "#19d3f3",
           "#FF6692",
           "#B6E880",
           "#FF97FF",
           "#FECB52"
          ],
          "font": {
           "color": "#2a3f5f"
          },
          "geo": {
           "bgcolor": "white",
           "lakecolor": "white",
           "landcolor": "#E5ECF6",
           "showlakes": true,
           "showland": true,
           "subunitcolor": "white"
          },
          "hoverlabel": {
           "align": "left"
          },
          "hovermode": "closest",
          "mapbox": {
           "style": "light"
          },
          "paper_bgcolor": "white",
          "plot_bgcolor": "#E5ECF6",
          "polar": {
           "angularaxis": {
            "gridcolor": "white",
            "linecolor": "white",
            "ticks": ""
           },
           "bgcolor": "#E5ECF6",
           "radialaxis": {
            "gridcolor": "white",
            "linecolor": "white",
            "ticks": ""
           }
          },
          "scene": {
           "xaxis": {
            "backgroundcolor": "#E5ECF6",
            "gridcolor": "white",
            "gridwidth": 2,
            "linecolor": "white",
            "showbackground": true,
            "ticks": "",
            "zerolinecolor": "white"
           },
           "yaxis": {
            "backgroundcolor": "#E5ECF6",
            "gridcolor": "white",
            "gridwidth": 2,
            "linecolor": "white",
            "showbackground": true,
            "ticks": "",
            "zerolinecolor": "white"
           },
           "zaxis": {
            "backgroundcolor": "#E5ECF6",
            "gridcolor": "white",
            "gridwidth": 2,
            "linecolor": "white",
            "showbackground": true,
            "ticks": "",
            "zerolinecolor": "white"
           }
          },
          "shapedefaults": {
           "line": {
            "color": "#2a3f5f"
           }
          },
          "ternary": {
           "aaxis": {
            "gridcolor": "white",
            "linecolor": "white",
            "ticks": ""
           },
           "baxis": {
            "gridcolor": "white",
            "linecolor": "white",
            "ticks": ""
           },
           "bgcolor": "#E5ECF6",
           "caxis": {
            "gridcolor": "white",
            "linecolor": "white",
            "ticks": ""
           }
          },
          "title": {
           "x": 0.05
          },
          "xaxis": {
           "automargin": true,
           "gridcolor": "white",
           "linecolor": "white",
           "ticks": "",
           "title": {
            "standoff": 15
           },
           "zerolinecolor": "white",
           "zerolinewidth": 2
          },
          "yaxis": {
           "automargin": true,
           "gridcolor": "white",
           "linecolor": "white",
           "ticks": "",
           "title": {
            "standoff": 15
           },
           "zerolinecolor": "white",
           "zerolinewidth": 2
          }
         }
        },
        "title": {
         "text": "Localização dos melhores lugares para abrir laboratórios"
        }
       }
      },
      "text/html": [
       "<div>                            <div id=\"2225accf-eda8-4d4f-ba1d-4b89146376a2\" class=\"plotly-graph-div\" style=\"height:525px; width:100%;\"></div>            <script type=\"text/javascript\">                require([\"plotly\"], function(Plotly) {                    window.PLOTLYENV=window.PLOTLYENV || {};                                    if (document.getElementById(\"2225accf-eda8-4d4f-ba1d-4b89146376a2\")) {                    Plotly.newPlot(                        \"2225accf-eda8-4d4f-ba1d-4b89146376a2\",                        [{\"lat\":[32.7423,33.3992,30.2687,42.3542,32.825,26.1487,32.7319,34.4133,41.9025,33.9769,40.0091,40.8295,34.2262,40.67,35.244,36.022,33.7224,41.7582,36.173],\"locationmode\":\"USA-states\",\"lon\":[-117.0947,-111.7896,-81.7473,-87.8651,-96.6784,-80.2075,-96.9057,-118.0917,-87.7393,-118.2161,-76.3671,-73.8716,-118.447,-73.9367,-80.7387,-79.7821,-84.5205,-88.2971,-115.0669],\"marker\":{\"autocolorscale\":false,\"color\":[30.231552173602267,30.34950120828933,31.14376476743172,31.863898137557896,31.95399509004084,33.09898390381565,33.26383697666825,33.4861038097101,33.96523968459725,34.11506800646798,34.34073122495651,34.552315713626484,34.68261048559062,34.82448137267077,35.08754521375708,35.25254989833461,35.41573572957651,35.57244233374547,35.636696348130755],\"colorbar\":{\"title\":{\"text\":\"M\\u00e9dia de proximidade<br>(Quando menor, melhor)\"}},\"line\":{\"color\":\"rgba(102, 102, 102)\",\"width\":1},\"opacity\":0.8,\"reversescale\":true,\"size\":10,\"symbol\":\"square\"},\"mode\":\"markers\",\"text\":[\"San Diego\",\"Mesa\",\"Jacksonville\",\"Waukegan\",\"Dallas\",\"Fort Lauderdale\",\"Dallas\",\"Palmdale\",\"Chicago\",\"Huntington Park\",\"Lancaster\",\"Bronx\",\"Panorama City\",\"Brooklyn\",\"Charlotte\",\"Greensboro\",\"Atlanta\",\"Aurora\",\"Las Vegas\"],\"type\":\"scattergeo\"}],                        {\"template\":{\"data\":{\"histogram2dcontour\":[{\"type\":\"histogram2dcontour\",\"colorbar\":{\"outlinewidth\":0,\"ticks\":\"\"},\"colorscale\":[[0.0,\"#0d0887\"],[0.1111111111111111,\"#46039f\"],[0.2222222222222222,\"#7201a8\"],[0.3333333333333333,\"#9c179e\"],[0.4444444444444444,\"#bd3786\"],[0.5555555555555556,\"#d8576b\"],[0.6666666666666666,\"#ed7953\"],[0.7777777777777778,\"#fb9f3a\"],[0.8888888888888888,\"#fdca26\"],[1.0,\"#f0f921\"]]}],\"choropleth\":[{\"type\":\"choropleth\",\"colorbar\":{\"outlinewidth\":0,\"ticks\":\"\"}}],\"histogram2d\":[{\"type\":\"histogram2d\",\"colorbar\":{\"outlinewidth\":0,\"ticks\":\"\"},\"colorscale\":[[0.0,\"#0d0887\"],[0.1111111111111111,\"#46039f\"],[0.2222222222222222,\"#7201a8\"],[0.3333333333333333,\"#9c179e\"],[0.4444444444444444,\"#bd3786\"],[0.5555555555555556,\"#d8576b\"],[0.6666666666666666,\"#ed7953\"],[0.7777777777777778,\"#fb9f3a\"],[0.8888888888888888,\"#fdca26\"],[1.0,\"#f0f921\"]]}],\"heatmap\":[{\"type\":\"heatmap\",\"colorbar\":{\"outlinewidth\":0,\"ticks\":\"\"},\"colorscale\":[[0.0,\"#0d0887\"],[0.1111111111111111,\"#46039f\"],[0.2222222222222222,\"#7201a8\"],[0.3333333333333333,\"#9c179e\"],[0.4444444444444444,\"#bd3786\"],[0.5555555555555556,\"#d8576b\"],[0.6666666666666666,\"#ed7953\"],[0.7777777777777778,\"#fb9f3a\"],[0.8888888888888888,\"#fdca26\"],[1.0,\"#f0f921\"]]}],\"heatmapgl\":[{\"type\":\"heatmapgl\",\"colorbar\":{\"outlinewidth\":0,\"ticks\":\"\"},\"colorscale\":[[0.0,\"#0d0887\"],[0.1111111111111111,\"#46039f\"],[0.2222222222222222,\"#7201a8\"],[0.3333333333333333,\"#9c179e\"],[0.4444444444444444,\"#bd3786\"],[0.5555555555555556,\"#d8576b\"],[0.6666666666666666,\"#ed7953\"],[0.7777777777777778,\"#fb9f3a\"],[0.8888888888888888,\"#fdca26\"],[1.0,\"#f0f921\"]]}],\"contourcarpet\":[{\"type\":\"contourcarpet\",\"colorbar\":{\"outlinewidth\":0,\"ticks\":\"\"}}],\"contour\":[{\"type\":\"contour\",\"colorbar\":{\"outlinewidth\":0,\"ticks\":\"\"},\"colorscale\":[[0.0,\"#0d0887\"],[0.1111111111111111,\"#46039f\"],[0.2222222222222222,\"#7201a8\"],[0.3333333333333333,\"#9c179e\"],[0.4444444444444444,\"#bd3786\"],[0.5555555555555556,\"#d8576b\"],[0.6666666666666666,\"#ed7953\"],[0.7777777777777778,\"#fb9f3a\"],[0.8888888888888888,\"#fdca26\"],[1.0,\"#f0f921\"]]}],\"surface\":[{\"type\":\"surface\",\"colorbar\":{\"outlinewidth\":0,\"ticks\":\"\"},\"colorscale\":[[0.0,\"#0d0887\"],[0.1111111111111111,\"#46039f\"],[0.2222222222222222,\"#7201a8\"],[0.3333333333333333,\"#9c179e\"],[0.4444444444444444,\"#bd3786\"],[0.5555555555555556,\"#d8576b\"],[0.6666666666666666,\"#ed7953\"],[0.7777777777777778,\"#fb9f3a\"],[0.8888888888888888,\"#fdca26\"],[1.0,\"#f0f921\"]]}],\"mesh3d\":[{\"type\":\"mesh3d\",\"colorbar\":{\"outlinewidth\":0,\"ticks\":\"\"}}],\"scatter\":[{\"fillpattern\":{\"fillmode\":\"overlay\",\"size\":10,\"solidity\":0.2},\"type\":\"scatter\"}],\"parcoords\":[{\"type\":\"parcoords\",\"line\":{\"colorbar\":{\"outlinewidth\":0,\"ticks\":\"\"}}}],\"scatterpolargl\":[{\"type\":\"scatterpolargl\",\"marker\":{\"colorbar\":{\"outlinewidth\":0,\"ticks\":\"\"}}}],\"bar\":[{\"error_x\":{\"color\":\"#2a3f5f\"},\"error_y\":{\"color\":\"#2a3f5f\"},\"marker\":{\"line\":{\"color\":\"#E5ECF6\",\"width\":0.5},\"pattern\":{\"fillmode\":\"overlay\",\"size\":10,\"solidity\":0.2}},\"type\":\"bar\"}],\"scattergeo\":[{\"type\":\"scattergeo\",\"marker\":{\"colorbar\":{\"outlinewidth\":0,\"ticks\":\"\"}}}],\"scatterpolar\":[{\"type\":\"scatterpolar\",\"marker\":{\"colorbar\":{\"outlinewidth\":0,\"ticks\":\"\"}}}],\"histogram\":[{\"marker\":{\"pattern\":{\"fillmode\":\"overlay\",\"size\":10,\"solidity\":0.2}},\"type\":\"histogram\"}],\"scattergl\":[{\"type\":\"scattergl\",\"marker\":{\"colorbar\":{\"outlinewidth\":0,\"ticks\":\"\"}}}],\"scatter3d\":[{\"type\":\"scatter3d\",\"line\":{\"colorbar\":{\"outlinewidth\":0,\"ticks\":\"\"}},\"marker\":{\"colorbar\":{\"outlinewidth\":0,\"ticks\":\"\"}}}],\"scattermapbox\":[{\"type\":\"scattermapbox\",\"marker\":{\"colorbar\":{\"outlinewidth\":0,\"ticks\":\"\"}}}],\"scatterternary\":[{\"type\":\"scatterternary\",\"marker\":{\"colorbar\":{\"outlinewidth\":0,\"ticks\":\"\"}}}],\"scattercarpet\":[{\"type\":\"scattercarpet\",\"marker\":{\"colorbar\":{\"outlinewidth\":0,\"ticks\":\"\"}}}],\"carpet\":[{\"aaxis\":{\"endlinecolor\":\"#2a3f5f\",\"gridcolor\":\"white\",\"linecolor\":\"white\",\"minorgridcolor\":\"white\",\"startlinecolor\":\"#2a3f5f\"},\"baxis\":{\"endlinecolor\":\"#2a3f5f\",\"gridcolor\":\"white\",\"linecolor\":\"white\",\"minorgridcolor\":\"white\",\"startlinecolor\":\"#2a3f5f\"},\"type\":\"carpet\"}],\"table\":[{\"cells\":{\"fill\":{\"color\":\"#EBF0F8\"},\"line\":{\"color\":\"white\"}},\"header\":{\"fill\":{\"color\":\"#C8D4E3\"},\"line\":{\"color\":\"white\"}},\"type\":\"table\"}],\"barpolar\":[{\"marker\":{\"line\":{\"color\":\"#E5ECF6\",\"width\":0.5},\"pattern\":{\"fillmode\":\"overlay\",\"size\":10,\"solidity\":0.2}},\"type\":\"barpolar\"}],\"pie\":[{\"automargin\":true,\"type\":\"pie\"}]},\"layout\":{\"autotypenumbers\":\"strict\",\"colorway\":[\"#636efa\",\"#EF553B\",\"#00cc96\",\"#ab63fa\",\"#FFA15A\",\"#19d3f3\",\"#FF6692\",\"#B6E880\",\"#FF97FF\",\"#FECB52\"],\"font\":{\"color\":\"#2a3f5f\"},\"hovermode\":\"closest\",\"hoverlabel\":{\"align\":\"left\"},\"paper_bgcolor\":\"white\",\"plot_bgcolor\":\"#E5ECF6\",\"polar\":{\"bgcolor\":\"#E5ECF6\",\"angularaxis\":{\"gridcolor\":\"white\",\"linecolor\":\"white\",\"ticks\":\"\"},\"radialaxis\":{\"gridcolor\":\"white\",\"linecolor\":\"white\",\"ticks\":\"\"}},\"ternary\":{\"bgcolor\":\"#E5ECF6\",\"aaxis\":{\"gridcolor\":\"white\",\"linecolor\":\"white\",\"ticks\":\"\"},\"baxis\":{\"gridcolor\":\"white\",\"linecolor\":\"white\",\"ticks\":\"\"},\"caxis\":{\"gridcolor\":\"white\",\"linecolor\":\"white\",\"ticks\":\"\"}},\"coloraxis\":{\"colorbar\":{\"outlinewidth\":0,\"ticks\":\"\"}},\"colorscale\":{\"sequential\":[[0.0,\"#0d0887\"],[0.1111111111111111,\"#46039f\"],[0.2222222222222222,\"#7201a8\"],[0.3333333333333333,\"#9c179e\"],[0.4444444444444444,\"#bd3786\"],[0.5555555555555556,\"#d8576b\"],[0.6666666666666666,\"#ed7953\"],[0.7777777777777778,\"#fb9f3a\"],[0.8888888888888888,\"#fdca26\"],[1.0,\"#f0f921\"]],\"sequentialminus\":[[0.0,\"#0d0887\"],[0.1111111111111111,\"#46039f\"],[0.2222222222222222,\"#7201a8\"],[0.3333333333333333,\"#9c179e\"],[0.4444444444444444,\"#bd3786\"],[0.5555555555555556,\"#d8576b\"],[0.6666666666666666,\"#ed7953\"],[0.7777777777777778,\"#fb9f3a\"],[0.8888888888888888,\"#fdca26\"],[1.0,\"#f0f921\"]],\"diverging\":[[0,\"#8e0152\"],[0.1,\"#c51b7d\"],[0.2,\"#de77ae\"],[0.3,\"#f1b6da\"],[0.4,\"#fde0ef\"],[0.5,\"#f7f7f7\"],[0.6,\"#e6f5d0\"],[0.7,\"#b8e186\"],[0.8,\"#7fbc41\"],[0.9,\"#4d9221\"],[1,\"#276419\"]]},\"xaxis\":{\"gridcolor\":\"white\",\"linecolor\":\"white\",\"ticks\":\"\",\"title\":{\"standoff\":15},\"zerolinecolor\":\"white\",\"automargin\":true,\"zerolinewidth\":2},\"yaxis\":{\"gridcolor\":\"white\",\"linecolor\":\"white\",\"ticks\":\"\",\"title\":{\"standoff\":15},\"zerolinecolor\":\"white\",\"automargin\":true,\"zerolinewidth\":2},\"scene\":{\"xaxis\":{\"backgroundcolor\":\"#E5ECF6\",\"gridcolor\":\"white\",\"linecolor\":\"white\",\"showbackground\":true,\"ticks\":\"\",\"zerolinecolor\":\"white\",\"gridwidth\":2},\"yaxis\":{\"backgroundcolor\":\"#E5ECF6\",\"gridcolor\":\"white\",\"linecolor\":\"white\",\"showbackground\":true,\"ticks\":\"\",\"zerolinecolor\":\"white\",\"gridwidth\":2},\"zaxis\":{\"backgroundcolor\":\"#E5ECF6\",\"gridcolor\":\"white\",\"linecolor\":\"white\",\"showbackground\":true,\"ticks\":\"\",\"zerolinecolor\":\"white\",\"gridwidth\":2}},\"shapedefaults\":{\"line\":{\"color\":\"#2a3f5f\"}},\"annotationdefaults\":{\"arrowcolor\":\"#2a3f5f\",\"arrowhead\":0,\"arrowwidth\":1},\"geo\":{\"bgcolor\":\"white\",\"landcolor\":\"#E5ECF6\",\"subunitcolor\":\"white\",\"showland\":true,\"showlakes\":true,\"lakecolor\":\"white\"},\"title\":{\"x\":0.05},\"mapbox\":{\"style\":\"light\"}}},\"geo\":{\"projection\":{\"type\":\"albers usa\"},\"scope\":\"usa\",\"showland\":true,\"landcolor\":\"rgb(250, 250, 250)\",\"subunitcolor\":\"rgb(217, 217, 217)\",\"countrycolor\":\"rgb(217, 217, 217)\",\"countrywidth\":0.5,\"subunitwidth\":0.5},\"title\":{\"text\":\"Localiza\\u00e7\\u00e3o dos melhores lugares para abrir laborat\\u00f3rios\"}},                        {\"responsive\": true}                    ).then(function(){\n",
       "                            \n",
       "var gd = document.getElementById('2225accf-eda8-4d4f-ba1d-4b89146376a2');\n",
       "var x = new MutationObserver(function (mutations, observer) {{\n",
       "        var display = window.getComputedStyle(gd).display;\n",
       "        if (!display || display === 'none') {{\n",
       "            console.log([gd, 'removed!']);\n",
       "            Plotly.purge(gd);\n",
       "            observer.disconnect();\n",
       "        }}\n",
       "}});\n",
       "\n",
       "// Listen for the removal of the full notebook cells\n",
       "var notebookContainer = gd.closest('#notebook-container');\n",
       "if (notebookContainer) {{\n",
       "    x.observe(notebookContainer, {childList: true});\n",
       "}}\n",
       "\n",
       "// Listen for the clearing of the current output cell\n",
       "var outputEl = gd.closest('.output');\n",
       "if (outputEl) {{\n",
       "    x.observe(outputEl, {childList: true});\n",
       "}}\n",
       "\n",
       "                        })                };                });            </script>        </div>"
      ]
     },
     "metadata": {},
     "output_type": "display_data"
    }
   ],
   "source": [
    "#Separando as 20 melhores cidades\n",
    "melhores= n_tem_lab_ordenado.head(20)\n",
    "#Transformando em lista\n",
    "postal_codes = melhores['Zipcode'].values.astype('str').tolist()\n",
    "\n",
    "#Códigos postais por iso\n",
    "nomi = pgeocode.Nominatim('us')\n",
    "\n",
    "#Buscando códigos postais\n",
    "us_post = nomi.query_postal_code(postal_codes)\n",
    "\n",
    "#Removendo colunas que não preciso\n",
    "us_post.drop(['community_name','community_code'], axis=1, inplace=True)\n",
    "us_post.dropna(inplace=True)\n",
    "\n",
    "#Transformando em valor inteiro para mesclar o que as tabelas tem em comum\n",
    "us_post['postal_code'] = us_post['postal_code'].astype(int)\n",
    "loc = pd.merge(melhores, us_post[['postal_code', 'latitude', 'longitude', 'place_name']], how='right', left_on=['Zipcode'], right_on=['postal_code'])\n",
    "\n",
    "fig = go.Figure(data=go.Scattergeo(\n",
    "        locationmode = 'USA-states',\n",
    "        lon = loc['longitude'],\n",
    "        lat = loc['latitude'],\n",
    "        text = loc['place_name'],\n",
    "        mode = 'markers',\n",
    "        marker = dict(\n",
    "            size = 10,\n",
    "            opacity = 0.8,\n",
    "            reversescale = True,\n",
    "            autocolorscale = False,\n",
    "            symbol = 'square',\n",
    "            line = dict(\n",
    "                width=1,\n",
    "                color='rgba(102, 102, 102)'\n",
    "            ),\n",
    "            color = loc['MeanDistanceToLab'],\n",
    "            colorbar_title=\"Média de proximidade<br>(Quando menor, melhor)\"\n",
    "        )\n",
    "            ))\n",
    "fig.update_layout(\n",
    "        title = 'Localização dos melhores lugares para abrir laboratórios',\n",
    "        geo = dict(\n",
    "            scope='usa',\n",
    "            projection_type='albers usa',\n",
    "            showland = True,\n",
    "            landcolor = \"rgb(250, 250, 250)\",\n",
    "            subunitcolor = \"rgb(217, 217, 217)\",\n",
    "            countrycolor = \"rgb(217, 217, 217)\",\n",
    "            countrywidth = 0.5,\n",
    "            subunitwidth = 0.5\n",
    "        ),\n",
    "    )\n",
    "fig.show()"
   ]
  },
  {
   "cell_type": "code",
   "execution_count": 40,
   "id": "863b4eaf",
   "metadata": {},
   "outputs": [
    {
     "data": {
      "application/vnd.plotly.v1+json": {
       "config": {
        "plotlyServerURL": "https://plot.ly"
       },
       "data": [
        {
         "alignmentgroup": "True",
         "hovertemplate": "Média de proximidade com lugares que seguem as premissas e lucraram mais=%{x}<br>=%{y}<extra></extra>",
         "legendgroup": "",
         "marker": {
          "color": "#636efa",
          "pattern": {
           "shape": ""
          }
         },
         "name": "",
         "offsetgroup": "",
         "orientation": "h",
         "showlegend": false,
         "textposition": "auto",
         "type": "bar",
         "x": [
          30.231552173602267,
          30.34950120828933,
          31.14376476743172
         ],
         "xaxis": "x",
         "y": [
          "92105",
          "85204",
          "32210"
         ],
         "yaxis": "y"
        }
       ],
       "layout": {
        "barmode": "relative",
        "font": {
         "family": "Arial",
         "size": 16
        },
        "legend": {
         "tracegroupgap": 0
        },
        "paper_bgcolor": "white",
        "plot_bgcolor": "white",
        "template": {
         "data": {
          "bar": [
           {
            "error_x": {
             "color": "#2a3f5f"
            },
            "error_y": {
             "color": "#2a3f5f"
            },
            "marker": {
             "line": {
              "color": "#E5ECF6",
              "width": 0.5
             },
             "pattern": {
              "fillmode": "overlay",
              "size": 10,
              "solidity": 0.2
             }
            },
            "type": "bar"
           }
          ],
          "barpolar": [
           {
            "marker": {
             "line": {
              "color": "#E5ECF6",
              "width": 0.5
             },
             "pattern": {
              "fillmode": "overlay",
              "size": 10,
              "solidity": 0.2
             }
            },
            "type": "barpolar"
           }
          ],
          "carpet": [
           {
            "aaxis": {
             "endlinecolor": "#2a3f5f",
             "gridcolor": "white",
             "linecolor": "white",
             "minorgridcolor": "white",
             "startlinecolor": "#2a3f5f"
            },
            "baxis": {
             "endlinecolor": "#2a3f5f",
             "gridcolor": "white",
             "linecolor": "white",
             "minorgridcolor": "white",
             "startlinecolor": "#2a3f5f"
            },
            "type": "carpet"
           }
          ],
          "choropleth": [
           {
            "colorbar": {
             "outlinewidth": 0,
             "ticks": ""
            },
            "type": "choropleth"
           }
          ],
          "contour": [
           {
            "colorbar": {
             "outlinewidth": 0,
             "ticks": ""
            },
            "colorscale": [
             [
              0,
              "#0d0887"
             ],
             [
              0.1111111111111111,
              "#46039f"
             ],
             [
              0.2222222222222222,
              "#7201a8"
             ],
             [
              0.3333333333333333,
              "#9c179e"
             ],
             [
              0.4444444444444444,
              "#bd3786"
             ],
             [
              0.5555555555555556,
              "#d8576b"
             ],
             [
              0.6666666666666666,
              "#ed7953"
             ],
             [
              0.7777777777777778,
              "#fb9f3a"
             ],
             [
              0.8888888888888888,
              "#fdca26"
             ],
             [
              1,
              "#f0f921"
             ]
            ],
            "type": "contour"
           }
          ],
          "contourcarpet": [
           {
            "colorbar": {
             "outlinewidth": 0,
             "ticks": ""
            },
            "type": "contourcarpet"
           }
          ],
          "heatmap": [
           {
            "colorbar": {
             "outlinewidth": 0,
             "ticks": ""
            },
            "colorscale": [
             [
              0,
              "#0d0887"
             ],
             [
              0.1111111111111111,
              "#46039f"
             ],
             [
              0.2222222222222222,
              "#7201a8"
             ],
             [
              0.3333333333333333,
              "#9c179e"
             ],
             [
              0.4444444444444444,
              "#bd3786"
             ],
             [
              0.5555555555555556,
              "#d8576b"
             ],
             [
              0.6666666666666666,
              "#ed7953"
             ],
             [
              0.7777777777777778,
              "#fb9f3a"
             ],
             [
              0.8888888888888888,
              "#fdca26"
             ],
             [
              1,
              "#f0f921"
             ]
            ],
            "type": "heatmap"
           }
          ],
          "heatmapgl": [
           {
            "colorbar": {
             "outlinewidth": 0,
             "ticks": ""
            },
            "colorscale": [
             [
              0,
              "#0d0887"
             ],
             [
              0.1111111111111111,
              "#46039f"
             ],
             [
              0.2222222222222222,
              "#7201a8"
             ],
             [
              0.3333333333333333,
              "#9c179e"
             ],
             [
              0.4444444444444444,
              "#bd3786"
             ],
             [
              0.5555555555555556,
              "#d8576b"
             ],
             [
              0.6666666666666666,
              "#ed7953"
             ],
             [
              0.7777777777777778,
              "#fb9f3a"
             ],
             [
              0.8888888888888888,
              "#fdca26"
             ],
             [
              1,
              "#f0f921"
             ]
            ],
            "type": "heatmapgl"
           }
          ],
          "histogram": [
           {
            "marker": {
             "pattern": {
              "fillmode": "overlay",
              "size": 10,
              "solidity": 0.2
             }
            },
            "type": "histogram"
           }
          ],
          "histogram2d": [
           {
            "colorbar": {
             "outlinewidth": 0,
             "ticks": ""
            },
            "colorscale": [
             [
              0,
              "#0d0887"
             ],
             [
              0.1111111111111111,
              "#46039f"
             ],
             [
              0.2222222222222222,
              "#7201a8"
             ],
             [
              0.3333333333333333,
              "#9c179e"
             ],
             [
              0.4444444444444444,
              "#bd3786"
             ],
             [
              0.5555555555555556,
              "#d8576b"
             ],
             [
              0.6666666666666666,
              "#ed7953"
             ],
             [
              0.7777777777777778,
              "#fb9f3a"
             ],
             [
              0.8888888888888888,
              "#fdca26"
             ],
             [
              1,
              "#f0f921"
             ]
            ],
            "type": "histogram2d"
           }
          ],
          "histogram2dcontour": [
           {
            "colorbar": {
             "outlinewidth": 0,
             "ticks": ""
            },
            "colorscale": [
             [
              0,
              "#0d0887"
             ],
             [
              0.1111111111111111,
              "#46039f"
             ],
             [
              0.2222222222222222,
              "#7201a8"
             ],
             [
              0.3333333333333333,
              "#9c179e"
             ],
             [
              0.4444444444444444,
              "#bd3786"
             ],
             [
              0.5555555555555556,
              "#d8576b"
             ],
             [
              0.6666666666666666,
              "#ed7953"
             ],
             [
              0.7777777777777778,
              "#fb9f3a"
             ],
             [
              0.8888888888888888,
              "#fdca26"
             ],
             [
              1,
              "#f0f921"
             ]
            ],
            "type": "histogram2dcontour"
           }
          ],
          "mesh3d": [
           {
            "colorbar": {
             "outlinewidth": 0,
             "ticks": ""
            },
            "type": "mesh3d"
           }
          ],
          "parcoords": [
           {
            "line": {
             "colorbar": {
              "outlinewidth": 0,
              "ticks": ""
             }
            },
            "type": "parcoords"
           }
          ],
          "pie": [
           {
            "automargin": true,
            "type": "pie"
           }
          ],
          "scatter": [
           {
            "fillpattern": {
             "fillmode": "overlay",
             "size": 10,
             "solidity": 0.2
            },
            "type": "scatter"
           }
          ],
          "scatter3d": [
           {
            "line": {
             "colorbar": {
              "outlinewidth": 0,
              "ticks": ""
             }
            },
            "marker": {
             "colorbar": {
              "outlinewidth": 0,
              "ticks": ""
             }
            },
            "type": "scatter3d"
           }
          ],
          "scattercarpet": [
           {
            "marker": {
             "colorbar": {
              "outlinewidth": 0,
              "ticks": ""
             }
            },
            "type": "scattercarpet"
           }
          ],
          "scattergeo": [
           {
            "marker": {
             "colorbar": {
              "outlinewidth": 0,
              "ticks": ""
             }
            },
            "type": "scattergeo"
           }
          ],
          "scattergl": [
           {
            "marker": {
             "colorbar": {
              "outlinewidth": 0,
              "ticks": ""
             }
            },
            "type": "scattergl"
           }
          ],
          "scattermapbox": [
           {
            "marker": {
             "colorbar": {
              "outlinewidth": 0,
              "ticks": ""
             }
            },
            "type": "scattermapbox"
           }
          ],
          "scatterpolar": [
           {
            "marker": {
             "colorbar": {
              "outlinewidth": 0,
              "ticks": ""
             }
            },
            "type": "scatterpolar"
           }
          ],
          "scatterpolargl": [
           {
            "marker": {
             "colorbar": {
              "outlinewidth": 0,
              "ticks": ""
             }
            },
            "type": "scatterpolargl"
           }
          ],
          "scatterternary": [
           {
            "marker": {
             "colorbar": {
              "outlinewidth": 0,
              "ticks": ""
             }
            },
            "type": "scatterternary"
           }
          ],
          "surface": [
           {
            "colorbar": {
             "outlinewidth": 0,
             "ticks": ""
            },
            "colorscale": [
             [
              0,
              "#0d0887"
             ],
             [
              0.1111111111111111,
              "#46039f"
             ],
             [
              0.2222222222222222,
              "#7201a8"
             ],
             [
              0.3333333333333333,
              "#9c179e"
             ],
             [
              0.4444444444444444,
              "#bd3786"
             ],
             [
              0.5555555555555556,
              "#d8576b"
             ],
             [
              0.6666666666666666,
              "#ed7953"
             ],
             [
              0.7777777777777778,
              "#fb9f3a"
             ],
             [
              0.8888888888888888,
              "#fdca26"
             ],
             [
              1,
              "#f0f921"
             ]
            ],
            "type": "surface"
           }
          ],
          "table": [
           {
            "cells": {
             "fill": {
              "color": "#EBF0F8"
             },
             "line": {
              "color": "white"
             }
            },
            "header": {
             "fill": {
              "color": "#C8D4E3"
             },
             "line": {
              "color": "white"
             }
            },
            "type": "table"
           }
          ]
         },
         "layout": {
          "annotationdefaults": {
           "arrowcolor": "#2a3f5f",
           "arrowhead": 0,
           "arrowwidth": 1
          },
          "autotypenumbers": "strict",
          "coloraxis": {
           "colorbar": {
            "outlinewidth": 0,
            "ticks": ""
           }
          },
          "colorscale": {
           "diverging": [
            [
             0,
             "#8e0152"
            ],
            [
             0.1,
             "#c51b7d"
            ],
            [
             0.2,
             "#de77ae"
            ],
            [
             0.3,
             "#f1b6da"
            ],
            [
             0.4,
             "#fde0ef"
            ],
            [
             0.5,
             "#f7f7f7"
            ],
            [
             0.6,
             "#e6f5d0"
            ],
            [
             0.7,
             "#b8e186"
            ],
            [
             0.8,
             "#7fbc41"
            ],
            [
             0.9,
             "#4d9221"
            ],
            [
             1,
             "#276419"
            ]
           ],
           "sequential": [
            [
             0,
             "#0d0887"
            ],
            [
             0.1111111111111111,
             "#46039f"
            ],
            [
             0.2222222222222222,
             "#7201a8"
            ],
            [
             0.3333333333333333,
             "#9c179e"
            ],
            [
             0.4444444444444444,
             "#bd3786"
            ],
            [
             0.5555555555555556,
             "#d8576b"
            ],
            [
             0.6666666666666666,
             "#ed7953"
            ],
            [
             0.7777777777777778,
             "#fb9f3a"
            ],
            [
             0.8888888888888888,
             "#fdca26"
            ],
            [
             1,
             "#f0f921"
            ]
           ],
           "sequentialminus": [
            [
             0,
             "#0d0887"
            ],
            [
             0.1111111111111111,
             "#46039f"
            ],
            [
             0.2222222222222222,
             "#7201a8"
            ],
            [
             0.3333333333333333,
             "#9c179e"
            ],
            [
             0.4444444444444444,
             "#bd3786"
            ],
            [
             0.5555555555555556,
             "#d8576b"
            ],
            [
             0.6666666666666666,
             "#ed7953"
            ],
            [
             0.7777777777777778,
             "#fb9f3a"
            ],
            [
             0.8888888888888888,
             "#fdca26"
            ],
            [
             1,
             "#f0f921"
            ]
           ]
          },
          "colorway": [
           "#636efa",
           "#EF553B",
           "#00cc96",
           "#ab63fa",
           "#FFA15A",
           "#19d3f3",
           "#FF6692",
           "#B6E880",
           "#FF97FF",
           "#FECB52"
          ],
          "font": {
           "color": "#2a3f5f"
          },
          "geo": {
           "bgcolor": "white",
           "lakecolor": "white",
           "landcolor": "#E5ECF6",
           "showlakes": true,
           "showland": true,
           "subunitcolor": "white"
          },
          "hoverlabel": {
           "align": "left"
          },
          "hovermode": "closest",
          "mapbox": {
           "style": "light"
          },
          "paper_bgcolor": "white",
          "plot_bgcolor": "#E5ECF6",
          "polar": {
           "angularaxis": {
            "gridcolor": "white",
            "linecolor": "white",
            "ticks": ""
           },
           "bgcolor": "#E5ECF6",
           "radialaxis": {
            "gridcolor": "white",
            "linecolor": "white",
            "ticks": ""
           }
          },
          "scene": {
           "xaxis": {
            "backgroundcolor": "#E5ECF6",
            "gridcolor": "white",
            "gridwidth": 2,
            "linecolor": "white",
            "showbackground": true,
            "ticks": "",
            "zerolinecolor": "white"
           },
           "yaxis": {
            "backgroundcolor": "#E5ECF6",
            "gridcolor": "white",
            "gridwidth": 2,
            "linecolor": "white",
            "showbackground": true,
            "ticks": "",
            "zerolinecolor": "white"
           },
           "zaxis": {
            "backgroundcolor": "#E5ECF6",
            "gridcolor": "white",
            "gridwidth": 2,
            "linecolor": "white",
            "showbackground": true,
            "ticks": "",
            "zerolinecolor": "white"
           }
          },
          "shapedefaults": {
           "line": {
            "color": "#2a3f5f"
           }
          },
          "ternary": {
           "aaxis": {
            "gridcolor": "white",
            "linecolor": "white",
            "ticks": ""
           },
           "baxis": {
            "gridcolor": "white",
            "linecolor": "white",
            "ticks": ""
           },
           "bgcolor": "#E5ECF6",
           "caxis": {
            "gridcolor": "white",
            "linecolor": "white",
            "ticks": ""
           }
          },
          "title": {
           "x": 0.05
          },
          "xaxis": {
           "automargin": true,
           "gridcolor": "white",
           "linecolor": "white",
           "ticks": "",
           "title": {
            "standoff": 15
           },
           "zerolinecolor": "white",
           "zerolinewidth": 2
          },
          "yaxis": {
           "automargin": true,
           "gridcolor": "white",
           "linecolor": "white",
           "ticks": "",
           "title": {
            "standoff": 15
           },
           "zerolinecolor": "white",
           "zerolinewidth": 2
          }
         }
        },
        "title": {
         "text": "Ranking: Melhores lugares",
         "x": 0.5,
         "xanchor": "center",
         "y": 0.9,
         "yanchor": "top"
        },
        "xaxis": {
         "anchor": "y",
         "domain": [
          0,
          1
         ],
         "title": {
          "text": "Média de proximidade com lugares que seguem as premissas e lucraram mais"
         }
        },
        "yaxis": {
         "anchor": "x",
         "categoryorder": "total descending",
         "domain": [
          0,
          1
         ],
         "title": {
          "text": ""
         }
        }
       }
      },
      "text/html": [
       "<div>                            <div id=\"172ec17d-07e3-450b-b97c-ef1967f8d986\" class=\"plotly-graph-div\" style=\"height:525px; width:100%;\"></div>            <script type=\"text/javascript\">                require([\"plotly\"], function(Plotly) {                    window.PLOTLYENV=window.PLOTLYENV || {};                                    if (document.getElementById(\"172ec17d-07e3-450b-b97c-ef1967f8d986\")) {                    Plotly.newPlot(                        \"172ec17d-07e3-450b-b97c-ef1967f8d986\",                        [{\"alignmentgroup\":\"True\",\"hovertemplate\":\"M\\u00e9dia de proximidade com lugares que seguem as premissas e lucraram mais=%{x}<br>=%{y}<extra></extra>\",\"legendgroup\":\"\",\"marker\":{\"color\":\"#636efa\",\"pattern\":{\"shape\":\"\"}},\"name\":\"\",\"offsetgroup\":\"\",\"orientation\":\"h\",\"showlegend\":false,\"textposition\":\"auto\",\"x\":[30.231552173602267,30.34950120828933,31.14376476743172],\"xaxis\":\"x\",\"y\":[\"92105\",\"85204\",\"32210\"],\"yaxis\":\"y\",\"type\":\"bar\"}],                        {\"template\":{\"data\":{\"histogram2dcontour\":[{\"type\":\"histogram2dcontour\",\"colorbar\":{\"outlinewidth\":0,\"ticks\":\"\"},\"colorscale\":[[0.0,\"#0d0887\"],[0.1111111111111111,\"#46039f\"],[0.2222222222222222,\"#7201a8\"],[0.3333333333333333,\"#9c179e\"],[0.4444444444444444,\"#bd3786\"],[0.5555555555555556,\"#d8576b\"],[0.6666666666666666,\"#ed7953\"],[0.7777777777777778,\"#fb9f3a\"],[0.8888888888888888,\"#fdca26\"],[1.0,\"#f0f921\"]]}],\"choropleth\":[{\"type\":\"choropleth\",\"colorbar\":{\"outlinewidth\":0,\"ticks\":\"\"}}],\"histogram2d\":[{\"type\":\"histogram2d\",\"colorbar\":{\"outlinewidth\":0,\"ticks\":\"\"},\"colorscale\":[[0.0,\"#0d0887\"],[0.1111111111111111,\"#46039f\"],[0.2222222222222222,\"#7201a8\"],[0.3333333333333333,\"#9c179e\"],[0.4444444444444444,\"#bd3786\"],[0.5555555555555556,\"#d8576b\"],[0.6666666666666666,\"#ed7953\"],[0.7777777777777778,\"#fb9f3a\"],[0.8888888888888888,\"#fdca26\"],[1.0,\"#f0f921\"]]}],\"heatmap\":[{\"type\":\"heatmap\",\"colorbar\":{\"outlinewidth\":0,\"ticks\":\"\"},\"colorscale\":[[0.0,\"#0d0887\"],[0.1111111111111111,\"#46039f\"],[0.2222222222222222,\"#7201a8\"],[0.3333333333333333,\"#9c179e\"],[0.4444444444444444,\"#bd3786\"],[0.5555555555555556,\"#d8576b\"],[0.6666666666666666,\"#ed7953\"],[0.7777777777777778,\"#fb9f3a\"],[0.8888888888888888,\"#fdca26\"],[1.0,\"#f0f921\"]]}],\"heatmapgl\":[{\"type\":\"heatmapgl\",\"colorbar\":{\"outlinewidth\":0,\"ticks\":\"\"},\"colorscale\":[[0.0,\"#0d0887\"],[0.1111111111111111,\"#46039f\"],[0.2222222222222222,\"#7201a8\"],[0.3333333333333333,\"#9c179e\"],[0.4444444444444444,\"#bd3786\"],[0.5555555555555556,\"#d8576b\"],[0.6666666666666666,\"#ed7953\"],[0.7777777777777778,\"#fb9f3a\"],[0.8888888888888888,\"#fdca26\"],[1.0,\"#f0f921\"]]}],\"contourcarpet\":[{\"type\":\"contourcarpet\",\"colorbar\":{\"outlinewidth\":0,\"ticks\":\"\"}}],\"contour\":[{\"type\":\"contour\",\"colorbar\":{\"outlinewidth\":0,\"ticks\":\"\"},\"colorscale\":[[0.0,\"#0d0887\"],[0.1111111111111111,\"#46039f\"],[0.2222222222222222,\"#7201a8\"],[0.3333333333333333,\"#9c179e\"],[0.4444444444444444,\"#bd3786\"],[0.5555555555555556,\"#d8576b\"],[0.6666666666666666,\"#ed7953\"],[0.7777777777777778,\"#fb9f3a\"],[0.8888888888888888,\"#fdca26\"],[1.0,\"#f0f921\"]]}],\"surface\":[{\"type\":\"surface\",\"colorbar\":{\"outlinewidth\":0,\"ticks\":\"\"},\"colorscale\":[[0.0,\"#0d0887\"],[0.1111111111111111,\"#46039f\"],[0.2222222222222222,\"#7201a8\"],[0.3333333333333333,\"#9c179e\"],[0.4444444444444444,\"#bd3786\"],[0.5555555555555556,\"#d8576b\"],[0.6666666666666666,\"#ed7953\"],[0.7777777777777778,\"#fb9f3a\"],[0.8888888888888888,\"#fdca26\"],[1.0,\"#f0f921\"]]}],\"mesh3d\":[{\"type\":\"mesh3d\",\"colorbar\":{\"outlinewidth\":0,\"ticks\":\"\"}}],\"scatter\":[{\"fillpattern\":{\"fillmode\":\"overlay\",\"size\":10,\"solidity\":0.2},\"type\":\"scatter\"}],\"parcoords\":[{\"type\":\"parcoords\",\"line\":{\"colorbar\":{\"outlinewidth\":0,\"ticks\":\"\"}}}],\"scatterpolargl\":[{\"type\":\"scatterpolargl\",\"marker\":{\"colorbar\":{\"outlinewidth\":0,\"ticks\":\"\"}}}],\"bar\":[{\"error_x\":{\"color\":\"#2a3f5f\"},\"error_y\":{\"color\":\"#2a3f5f\"},\"marker\":{\"line\":{\"color\":\"#E5ECF6\",\"width\":0.5},\"pattern\":{\"fillmode\":\"overlay\",\"size\":10,\"solidity\":0.2}},\"type\":\"bar\"}],\"scattergeo\":[{\"type\":\"scattergeo\",\"marker\":{\"colorbar\":{\"outlinewidth\":0,\"ticks\":\"\"}}}],\"scatterpolar\":[{\"type\":\"scatterpolar\",\"marker\":{\"colorbar\":{\"outlinewidth\":0,\"ticks\":\"\"}}}],\"histogram\":[{\"marker\":{\"pattern\":{\"fillmode\":\"overlay\",\"size\":10,\"solidity\":0.2}},\"type\":\"histogram\"}],\"scattergl\":[{\"type\":\"scattergl\",\"marker\":{\"colorbar\":{\"outlinewidth\":0,\"ticks\":\"\"}}}],\"scatter3d\":[{\"type\":\"scatter3d\",\"line\":{\"colorbar\":{\"outlinewidth\":0,\"ticks\":\"\"}},\"marker\":{\"colorbar\":{\"outlinewidth\":0,\"ticks\":\"\"}}}],\"scattermapbox\":[{\"type\":\"scattermapbox\",\"marker\":{\"colorbar\":{\"outlinewidth\":0,\"ticks\":\"\"}}}],\"scatterternary\":[{\"type\":\"scatterternary\",\"marker\":{\"colorbar\":{\"outlinewidth\":0,\"ticks\":\"\"}}}],\"scattercarpet\":[{\"type\":\"scattercarpet\",\"marker\":{\"colorbar\":{\"outlinewidth\":0,\"ticks\":\"\"}}}],\"carpet\":[{\"aaxis\":{\"endlinecolor\":\"#2a3f5f\",\"gridcolor\":\"white\",\"linecolor\":\"white\",\"minorgridcolor\":\"white\",\"startlinecolor\":\"#2a3f5f\"},\"baxis\":{\"endlinecolor\":\"#2a3f5f\",\"gridcolor\":\"white\",\"linecolor\":\"white\",\"minorgridcolor\":\"white\",\"startlinecolor\":\"#2a3f5f\"},\"type\":\"carpet\"}],\"table\":[{\"cells\":{\"fill\":{\"color\":\"#EBF0F8\"},\"line\":{\"color\":\"white\"}},\"header\":{\"fill\":{\"color\":\"#C8D4E3\"},\"line\":{\"color\":\"white\"}},\"type\":\"table\"}],\"barpolar\":[{\"marker\":{\"line\":{\"color\":\"#E5ECF6\",\"width\":0.5},\"pattern\":{\"fillmode\":\"overlay\",\"size\":10,\"solidity\":0.2}},\"type\":\"barpolar\"}],\"pie\":[{\"automargin\":true,\"type\":\"pie\"}]},\"layout\":{\"autotypenumbers\":\"strict\",\"colorway\":[\"#636efa\",\"#EF553B\",\"#00cc96\",\"#ab63fa\",\"#FFA15A\",\"#19d3f3\",\"#FF6692\",\"#B6E880\",\"#FF97FF\",\"#FECB52\"],\"font\":{\"color\":\"#2a3f5f\"},\"hovermode\":\"closest\",\"hoverlabel\":{\"align\":\"left\"},\"paper_bgcolor\":\"white\",\"plot_bgcolor\":\"#E5ECF6\",\"polar\":{\"bgcolor\":\"#E5ECF6\",\"angularaxis\":{\"gridcolor\":\"white\",\"linecolor\":\"white\",\"ticks\":\"\"},\"radialaxis\":{\"gridcolor\":\"white\",\"linecolor\":\"white\",\"ticks\":\"\"}},\"ternary\":{\"bgcolor\":\"#E5ECF6\",\"aaxis\":{\"gridcolor\":\"white\",\"linecolor\":\"white\",\"ticks\":\"\"},\"baxis\":{\"gridcolor\":\"white\",\"linecolor\":\"white\",\"ticks\":\"\"},\"caxis\":{\"gridcolor\":\"white\",\"linecolor\":\"white\",\"ticks\":\"\"}},\"coloraxis\":{\"colorbar\":{\"outlinewidth\":0,\"ticks\":\"\"}},\"colorscale\":{\"sequential\":[[0.0,\"#0d0887\"],[0.1111111111111111,\"#46039f\"],[0.2222222222222222,\"#7201a8\"],[0.3333333333333333,\"#9c179e\"],[0.4444444444444444,\"#bd3786\"],[0.5555555555555556,\"#d8576b\"],[0.6666666666666666,\"#ed7953\"],[0.7777777777777778,\"#fb9f3a\"],[0.8888888888888888,\"#fdca26\"],[1.0,\"#f0f921\"]],\"sequentialminus\":[[0.0,\"#0d0887\"],[0.1111111111111111,\"#46039f\"],[0.2222222222222222,\"#7201a8\"],[0.3333333333333333,\"#9c179e\"],[0.4444444444444444,\"#bd3786\"],[0.5555555555555556,\"#d8576b\"],[0.6666666666666666,\"#ed7953\"],[0.7777777777777778,\"#fb9f3a\"],[0.8888888888888888,\"#fdca26\"],[1.0,\"#f0f921\"]],\"diverging\":[[0,\"#8e0152\"],[0.1,\"#c51b7d\"],[0.2,\"#de77ae\"],[0.3,\"#f1b6da\"],[0.4,\"#fde0ef\"],[0.5,\"#f7f7f7\"],[0.6,\"#e6f5d0\"],[0.7,\"#b8e186\"],[0.8,\"#7fbc41\"],[0.9,\"#4d9221\"],[1,\"#276419\"]]},\"xaxis\":{\"gridcolor\":\"white\",\"linecolor\":\"white\",\"ticks\":\"\",\"title\":{\"standoff\":15},\"zerolinecolor\":\"white\",\"automargin\":true,\"zerolinewidth\":2},\"yaxis\":{\"gridcolor\":\"white\",\"linecolor\":\"white\",\"ticks\":\"\",\"title\":{\"standoff\":15},\"zerolinecolor\":\"white\",\"automargin\":true,\"zerolinewidth\":2},\"scene\":{\"xaxis\":{\"backgroundcolor\":\"#E5ECF6\",\"gridcolor\":\"white\",\"linecolor\":\"white\",\"showbackground\":true,\"ticks\":\"\",\"zerolinecolor\":\"white\",\"gridwidth\":2},\"yaxis\":{\"backgroundcolor\":\"#E5ECF6\",\"gridcolor\":\"white\",\"linecolor\":\"white\",\"showbackground\":true,\"ticks\":\"\",\"zerolinecolor\":\"white\",\"gridwidth\":2},\"zaxis\":{\"backgroundcolor\":\"#E5ECF6\",\"gridcolor\":\"white\",\"linecolor\":\"white\",\"showbackground\":true,\"ticks\":\"\",\"zerolinecolor\":\"white\",\"gridwidth\":2}},\"shapedefaults\":{\"line\":{\"color\":\"#2a3f5f\"}},\"annotationdefaults\":{\"arrowcolor\":\"#2a3f5f\",\"arrowhead\":0,\"arrowwidth\":1},\"geo\":{\"bgcolor\":\"white\",\"landcolor\":\"#E5ECF6\",\"subunitcolor\":\"white\",\"showland\":true,\"showlakes\":true,\"lakecolor\":\"white\"},\"title\":{\"x\":0.05},\"mapbox\":{\"style\":\"light\"}}},\"xaxis\":{\"anchor\":\"y\",\"domain\":[0.0,1.0],\"title\":{\"text\":\"M\\u00e9dia de proximidade com lugares que seguem as premissas e lucraram mais\"}},\"yaxis\":{\"anchor\":\"x\",\"domain\":[0.0,1.0],\"title\":{\"text\":\"\"},\"categoryorder\":\"total descending\"},\"legend\":{\"tracegroupgap\":0},\"title\":{\"text\":\"Ranking: Melhores lugares\",\"y\":0.9,\"x\":0.5,\"xanchor\":\"center\",\"yanchor\":\"top\"},\"barmode\":\"relative\",\"font\":{\"family\":\"Arial\",\"size\":16},\"paper_bgcolor\":\"white\",\"plot_bgcolor\":\"white\"},                        {\"responsive\": true}                    ).then(function(){\n",
       "                            \n",
       "var gd = document.getElementById('172ec17d-07e3-450b-b97c-ef1967f8d986');\n",
       "var x = new MutationObserver(function (mutations, observer) {{\n",
       "        var display = window.getComputedStyle(gd).display;\n",
       "        if (!display || display === 'none') {{\n",
       "            console.log([gd, 'removed!']);\n",
       "            Plotly.purge(gd);\n",
       "            observer.disconnect();\n",
       "        }}\n",
       "}});\n",
       "\n",
       "// Listen for the removal of the full notebook cells\n",
       "var notebookContainer = gd.closest('#notebook-container');\n",
       "if (notebookContainer) {{\n",
       "    x.observe(notebookContainer, {childList: true});\n",
       "}}\n",
       "\n",
       "// Listen for the clearing of the current output cell\n",
       "var outputEl = gd.closest('.output');\n",
       "if (outputEl) {{\n",
       "    x.observe(outputEl, {childList: true});\n",
       "}}\n",
       "\n",
       "                        })                };                });            </script>        </div>"
      ]
     },
     "metadata": {},
     "output_type": "display_data"
    }
   ],
   "source": [
    "top3 = loc.head(3)\n",
    "top3['postal_code'] = top3['postal_code'].astype(str)\n",
    "fig = px.bar(\n",
    "    top3, \n",
    "    x=\"MeanDistanceToLab\", \n",
    "    y=\"postal_code\",\n",
    "    labels={\n",
    "        \"postal_code\": \"\",\n",
    "        \"MeanDistanceToLab\": \"Média de proximidade com lugares que seguem as premissas e lucraram mais\",\n",
    "    },\n",
    "    title='Ranking: Melhores lugares'\n",
    ")\n",
    "fig.update_layout(\n",
    "    paper_bgcolor='white',\n",
    "    plot_bgcolor='white',\n",
    "    title={\n",
    "        'y':0.9,\n",
    "        'x':0.5,\n",
    "        'xanchor': 'center',    \n",
    "        'yanchor': 'top'}, \n",
    "        font=dict(family=\"Arial\",size=16),\n",
    "        )\n",
    "fig.update_yaxes(categoryorder='total descending')\n",
    "fig.show()\n"
   ]
  },
  {
   "cell_type": "markdown",
   "id": "c1aa6437",
   "metadata": {},
   "source": [
    "### A análise demonstrou que os ZIP codes 92105, 85204 e 32210 são os mais promissores para a expansão da rede de laboratórios, considerando a demanda e as características demográficas e econômicas da população."
   ]
  }
 ],
 "metadata": {
  "kernelspec": {
   "display_name": "Python 3 (ipykernel)",
   "language": "python",
   "name": "python3"
  },
  "language_info": {
   "codemirror_mode": {
    "name": "ipython",
    "version": 3
   },
   "file_extension": ".py",
   "mimetype": "text/x-python",
   "name": "python",
   "nbconvert_exporter": "python",
   "pygments_lexer": "ipython3",
   "version": "3.11.7"
  }
 },
 "nbformat": 4,
 "nbformat_minor": 5
}
